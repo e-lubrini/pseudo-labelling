{
 "cells": [
  {
   "cell_type": "markdown",
   "id": "07daf006-ccc0-4eba-a11c-c208b7c48396",
   "metadata": {},
   "source": [
    "# Setup\n",
    "## Imports"
   ]
  },
  {
   "cell_type": "code",
   "execution_count": 1,
   "id": "66837348-5ee0-4d72-8546-5050e278c409",
   "metadata": {},
   "outputs": [],
   "source": [
    "import os\n",
    "\n",
    "import matplotlib.pyplot as plt\n",
    "\n",
    "import pandas as pd\n",
    "import numpy as np\n",
    "\n",
    "from sklearn.preprocessing import LabelEncoder\n",
    "import tensorflow.keras as keras"
   ]
  },
  {
   "cell_type": "markdown",
   "id": "ed01413d-1ac8-4eb8-bad1-34c323ef18a0",
   "metadata": {
    "tags": []
   },
   "source": [
    "## Load dataset"
   ]
  },
  {
   "cell_type": "code",
   "execution_count": 2,
   "id": "8da07ad3-6e0f-40d3-b331-c03d91b83f20",
   "metadata": {},
   "outputs": [],
   "source": [
    "# Where is the data?\n",
    "data_path = \"data\"\n",
    "\n",
    "metadata_filename = \"HAM10000_metadata.csv\"\n",
    "preprocesed_image_filenames = \"hmnist_{resolution}_{resolution}_{depth}.csv\""
   ]
  },
  {
   "cell_type": "code",
   "execution_count": 3,
   "id": "7296589d-eccf-43d3-85fb-d647ed140c62",
   "metadata": {},
   "outputs": [],
   "source": [
    "# What data to load. change this for a different dataset\n",
    "image_resolution = 28\n",
    "color = True\n",
    "\n",
    "depth = \"RGB\" if color else \"L\"\n",
    "preprocesed_image_filename = preprocesed_image_filenames.format(resolution=image_resolution,depth=depth)"
   ]
  },
  {
   "cell_type": "code",
   "execution_count": 4,
   "id": "726f5da5-ff69-458c-9d4f-63308a1f00ba",
   "metadata": {},
   "outputs": [],
   "source": [
    "# Load data into dataframes\n",
    "meta_df = pd.read_csv(data_path + os.sep + metadata_filename)\n",
    "image_df = pd.read_csv(data_path + os.sep + preprocesed_image_filename)\n"
   ]
  },
  {
   "cell_type": "markdown",
   "id": "543732bb-d9c1-4ec9-a6ec-ea7bfbada670",
   "metadata": {},
   "source": [
    "# Initial visualization"
   ]
  },
  {
   "cell_type": "code",
   "execution_count": 5,
   "id": "6097b567-6964-4f52-a2cf-c355035e83fa",
   "metadata": {},
   "outputs": [
    {
     "output_type": "execute_result",
     "data": {
      "text/plain": [
       "         lesion_id      image_id     dx dx_type   age     sex localization\n",
       "0      HAM_0000118  ISIC_0027419    bkl   histo  80.0    male        scalp\n",
       "1      HAM_0000118  ISIC_0025030    bkl   histo  80.0    male        scalp\n",
       "2      HAM_0002730  ISIC_0026769    bkl   histo  80.0    male        scalp\n",
       "3      HAM_0002730  ISIC_0025661    bkl   histo  80.0    male        scalp\n",
       "4      HAM_0001466  ISIC_0031633    bkl   histo  75.0    male          ear\n",
       "...            ...           ...    ...     ...   ...     ...          ...\n",
       "10010  HAM_0002867  ISIC_0033084  akiec   histo  40.0    male      abdomen\n",
       "10011  HAM_0002867  ISIC_0033550  akiec   histo  40.0    male      abdomen\n",
       "10012  HAM_0002867  ISIC_0033536  akiec   histo  40.0    male      abdomen\n",
       "10013  HAM_0000239  ISIC_0032854  akiec   histo  80.0    male         face\n",
       "10014  HAM_0003521  ISIC_0032258    mel   histo  70.0  female         back\n",
       "\n",
       "[10015 rows x 7 columns]"
      ],
      "text/html": "<div>\n<style scoped>\n    .dataframe tbody tr th:only-of-type {\n        vertical-align: middle;\n    }\n\n    .dataframe tbody tr th {\n        vertical-align: top;\n    }\n\n    .dataframe thead th {\n        text-align: right;\n    }\n</style>\n<table border=\"1\" class=\"dataframe\">\n  <thead>\n    <tr style=\"text-align: right;\">\n      <th></th>\n      <th>lesion_id</th>\n      <th>image_id</th>\n      <th>dx</th>\n      <th>dx_type</th>\n      <th>age</th>\n      <th>sex</th>\n      <th>localization</th>\n    </tr>\n  </thead>\n  <tbody>\n    <tr>\n      <th>0</th>\n      <td>HAM_0000118</td>\n      <td>ISIC_0027419</td>\n      <td>bkl</td>\n      <td>histo</td>\n      <td>80.0</td>\n      <td>male</td>\n      <td>scalp</td>\n    </tr>\n    <tr>\n      <th>1</th>\n      <td>HAM_0000118</td>\n      <td>ISIC_0025030</td>\n      <td>bkl</td>\n      <td>histo</td>\n      <td>80.0</td>\n      <td>male</td>\n      <td>scalp</td>\n    </tr>\n    <tr>\n      <th>2</th>\n      <td>HAM_0002730</td>\n      <td>ISIC_0026769</td>\n      <td>bkl</td>\n      <td>histo</td>\n      <td>80.0</td>\n      <td>male</td>\n      <td>scalp</td>\n    </tr>\n    <tr>\n      <th>3</th>\n      <td>HAM_0002730</td>\n      <td>ISIC_0025661</td>\n      <td>bkl</td>\n      <td>histo</td>\n      <td>80.0</td>\n      <td>male</td>\n      <td>scalp</td>\n    </tr>\n    <tr>\n      <th>4</th>\n      <td>HAM_0001466</td>\n      <td>ISIC_0031633</td>\n      <td>bkl</td>\n      <td>histo</td>\n      <td>75.0</td>\n      <td>male</td>\n      <td>ear</td>\n    </tr>\n    <tr>\n      <th>...</th>\n      <td>...</td>\n      <td>...</td>\n      <td>...</td>\n      <td>...</td>\n      <td>...</td>\n      <td>...</td>\n      <td>...</td>\n    </tr>\n    <tr>\n      <th>10010</th>\n      <td>HAM_0002867</td>\n      <td>ISIC_0033084</td>\n      <td>akiec</td>\n      <td>histo</td>\n      <td>40.0</td>\n      <td>male</td>\n      <td>abdomen</td>\n    </tr>\n    <tr>\n      <th>10011</th>\n      <td>HAM_0002867</td>\n      <td>ISIC_0033550</td>\n      <td>akiec</td>\n      <td>histo</td>\n      <td>40.0</td>\n      <td>male</td>\n      <td>abdomen</td>\n    </tr>\n    <tr>\n      <th>10012</th>\n      <td>HAM_0002867</td>\n      <td>ISIC_0033536</td>\n      <td>akiec</td>\n      <td>histo</td>\n      <td>40.0</td>\n      <td>male</td>\n      <td>abdomen</td>\n    </tr>\n    <tr>\n      <th>10013</th>\n      <td>HAM_0000239</td>\n      <td>ISIC_0032854</td>\n      <td>akiec</td>\n      <td>histo</td>\n      <td>80.0</td>\n      <td>male</td>\n      <td>face</td>\n    </tr>\n    <tr>\n      <th>10014</th>\n      <td>HAM_0003521</td>\n      <td>ISIC_0032258</td>\n      <td>mel</td>\n      <td>histo</td>\n      <td>70.0</td>\n      <td>female</td>\n      <td>back</td>\n    </tr>\n  </tbody>\n</table>\n<p>10015 rows × 7 columns</p>\n</div>"
     },
     "metadata": {},
     "execution_count": 5
    }
   ],
   "source": [
    "meta_df"
   ]
  },
  {
   "cell_type": "code",
   "execution_count": 6,
   "id": "e4238f20-5281-4ce7-bd29-9e4395607cf5",
   "metadata": {},
   "outputs": [
    {
     "output_type": "execute_result",
     "data": {
      "text/plain": [
       "       pixel0000  pixel0001  pixel0002  pixel0003  pixel0004  pixel0005  \\\n",
       "0            192        153        193        195        155        192   \n",
       "1             25         14         30         68         48         75   \n",
       "2            192        138        153        200        145        163   \n",
       "3             38         19         30         95         59         72   \n",
       "4            158        113        139        194        144        174   \n",
       "...          ...        ...        ...        ...        ...        ...   \n",
       "10010        183        165        181        182        165        180   \n",
       "10011          2          3          1         38         33         32   \n",
       "10012        132        118        118        167        149        149   \n",
       "10013        160        124        146        164        131        152   \n",
       "10014        175        142        121        181        150        134   \n",
       "\n",
       "       pixel0006  pixel0007  pixel0008  pixel0009  ...  pixel2343  pixel2344  \\\n",
       "0            197        154        185        202  ...        173        124   \n",
       "1            123         93        126        158  ...         60         39   \n",
       "2            201        142        160        206  ...        167        129   \n",
       "3            143        103        119        171  ...         44         26   \n",
       "4            215        162        191        225  ...        209        166   \n",
       "...          ...        ...        ...        ...  ...        ...        ...   \n",
       "10010        184        166        182        188  ...        208        185   \n",
       "10011        121        104        103        132  ...         96         79   \n",
       "10012        175        156        160        184  ...        204        181   \n",
       "10013        167        127        146        169  ...        185        162   \n",
       "10014        181        150        133        178  ...        159         79   \n",
       "\n",
       "       pixel2345  pixel2346  pixel2347  pixel2348  pixel2349  pixel2350  \\\n",
       "0            138        183        147        166        185        154   \n",
       "1             55         25         14         28         25         14   \n",
       "2            143        159        124        142        136        104   \n",
       "3             36         25         12         17         25         12   \n",
       "4            185        172        135        149        109         78   \n",
       "...          ...        ...        ...        ...        ...        ...   \n",
       "10010        187        208        186        186        206        187   \n",
       "10011         76         24         23         21          3          4   \n",
       "10012        178        181        159        153        172        151   \n",
       "10013        167        184        157        166        185        162   \n",
       "10014         82        174        137        125        175        139   \n",
       "\n",
       "       pixel2351  label  \n",
       "0            177      2  \n",
       "1             27      2  \n",
       "2            117      2  \n",
       "3             15      2  \n",
       "4             92      2  \n",
       "...          ...    ...  \n",
       "10010        189      0  \n",
       "10011          1      0  \n",
       "10012        145      0  \n",
       "10013        172      0  \n",
       "10014        126      6  \n",
       "\n",
       "[10015 rows x 2353 columns]"
      ],
      "text/html": "<div>\n<style scoped>\n    .dataframe tbody tr th:only-of-type {\n        vertical-align: middle;\n    }\n\n    .dataframe tbody tr th {\n        vertical-align: top;\n    }\n\n    .dataframe thead th {\n        text-align: right;\n    }\n</style>\n<table border=\"1\" class=\"dataframe\">\n  <thead>\n    <tr style=\"text-align: right;\">\n      <th></th>\n      <th>pixel0000</th>\n      <th>pixel0001</th>\n      <th>pixel0002</th>\n      <th>pixel0003</th>\n      <th>pixel0004</th>\n      <th>pixel0005</th>\n      <th>pixel0006</th>\n      <th>pixel0007</th>\n      <th>pixel0008</th>\n      <th>pixel0009</th>\n      <th>...</th>\n      <th>pixel2343</th>\n      <th>pixel2344</th>\n      <th>pixel2345</th>\n      <th>pixel2346</th>\n      <th>pixel2347</th>\n      <th>pixel2348</th>\n      <th>pixel2349</th>\n      <th>pixel2350</th>\n      <th>pixel2351</th>\n      <th>label</th>\n    </tr>\n  </thead>\n  <tbody>\n    <tr>\n      <th>0</th>\n      <td>192</td>\n      <td>153</td>\n      <td>193</td>\n      <td>195</td>\n      <td>155</td>\n      <td>192</td>\n      <td>197</td>\n      <td>154</td>\n      <td>185</td>\n      <td>202</td>\n      <td>...</td>\n      <td>173</td>\n      <td>124</td>\n      <td>138</td>\n      <td>183</td>\n      <td>147</td>\n      <td>166</td>\n      <td>185</td>\n      <td>154</td>\n      <td>177</td>\n      <td>2</td>\n    </tr>\n    <tr>\n      <th>1</th>\n      <td>25</td>\n      <td>14</td>\n      <td>30</td>\n      <td>68</td>\n      <td>48</td>\n      <td>75</td>\n      <td>123</td>\n      <td>93</td>\n      <td>126</td>\n      <td>158</td>\n      <td>...</td>\n      <td>60</td>\n      <td>39</td>\n      <td>55</td>\n      <td>25</td>\n      <td>14</td>\n      <td>28</td>\n      <td>25</td>\n      <td>14</td>\n      <td>27</td>\n      <td>2</td>\n    </tr>\n    <tr>\n      <th>2</th>\n      <td>192</td>\n      <td>138</td>\n      <td>153</td>\n      <td>200</td>\n      <td>145</td>\n      <td>163</td>\n      <td>201</td>\n      <td>142</td>\n      <td>160</td>\n      <td>206</td>\n      <td>...</td>\n      <td>167</td>\n      <td>129</td>\n      <td>143</td>\n      <td>159</td>\n      <td>124</td>\n      <td>142</td>\n      <td>136</td>\n      <td>104</td>\n      <td>117</td>\n      <td>2</td>\n    </tr>\n    <tr>\n      <th>3</th>\n      <td>38</td>\n      <td>19</td>\n      <td>30</td>\n      <td>95</td>\n      <td>59</td>\n      <td>72</td>\n      <td>143</td>\n      <td>103</td>\n      <td>119</td>\n      <td>171</td>\n      <td>...</td>\n      <td>44</td>\n      <td>26</td>\n      <td>36</td>\n      <td>25</td>\n      <td>12</td>\n      <td>17</td>\n      <td>25</td>\n      <td>12</td>\n      <td>15</td>\n      <td>2</td>\n    </tr>\n    <tr>\n      <th>4</th>\n      <td>158</td>\n      <td>113</td>\n      <td>139</td>\n      <td>194</td>\n      <td>144</td>\n      <td>174</td>\n      <td>215</td>\n      <td>162</td>\n      <td>191</td>\n      <td>225</td>\n      <td>...</td>\n      <td>209</td>\n      <td>166</td>\n      <td>185</td>\n      <td>172</td>\n      <td>135</td>\n      <td>149</td>\n      <td>109</td>\n      <td>78</td>\n      <td>92</td>\n      <td>2</td>\n    </tr>\n    <tr>\n      <th>...</th>\n      <td>...</td>\n      <td>...</td>\n      <td>...</td>\n      <td>...</td>\n      <td>...</td>\n      <td>...</td>\n      <td>...</td>\n      <td>...</td>\n      <td>...</td>\n      <td>...</td>\n      <td>...</td>\n      <td>...</td>\n      <td>...</td>\n      <td>...</td>\n      <td>...</td>\n      <td>...</td>\n      <td>...</td>\n      <td>...</td>\n      <td>...</td>\n      <td>...</td>\n      <td>...</td>\n    </tr>\n    <tr>\n      <th>10010</th>\n      <td>183</td>\n      <td>165</td>\n      <td>181</td>\n      <td>182</td>\n      <td>165</td>\n      <td>180</td>\n      <td>184</td>\n      <td>166</td>\n      <td>182</td>\n      <td>188</td>\n      <td>...</td>\n      <td>208</td>\n      <td>185</td>\n      <td>187</td>\n      <td>208</td>\n      <td>186</td>\n      <td>186</td>\n      <td>206</td>\n      <td>187</td>\n      <td>189</td>\n      <td>0</td>\n    </tr>\n    <tr>\n      <th>10011</th>\n      <td>2</td>\n      <td>3</td>\n      <td>1</td>\n      <td>38</td>\n      <td>33</td>\n      <td>32</td>\n      <td>121</td>\n      <td>104</td>\n      <td>103</td>\n      <td>132</td>\n      <td>...</td>\n      <td>96</td>\n      <td>79</td>\n      <td>76</td>\n      <td>24</td>\n      <td>23</td>\n      <td>21</td>\n      <td>3</td>\n      <td>4</td>\n      <td>1</td>\n      <td>0</td>\n    </tr>\n    <tr>\n      <th>10012</th>\n      <td>132</td>\n      <td>118</td>\n      <td>118</td>\n      <td>167</td>\n      <td>149</td>\n      <td>149</td>\n      <td>175</td>\n      <td>156</td>\n      <td>160</td>\n      <td>184</td>\n      <td>...</td>\n      <td>204</td>\n      <td>181</td>\n      <td>178</td>\n      <td>181</td>\n      <td>159</td>\n      <td>153</td>\n      <td>172</td>\n      <td>151</td>\n      <td>145</td>\n      <td>0</td>\n    </tr>\n    <tr>\n      <th>10013</th>\n      <td>160</td>\n      <td>124</td>\n      <td>146</td>\n      <td>164</td>\n      <td>131</td>\n      <td>152</td>\n      <td>167</td>\n      <td>127</td>\n      <td>146</td>\n      <td>169</td>\n      <td>...</td>\n      <td>185</td>\n      <td>162</td>\n      <td>167</td>\n      <td>184</td>\n      <td>157</td>\n      <td>166</td>\n      <td>185</td>\n      <td>162</td>\n      <td>172</td>\n      <td>0</td>\n    </tr>\n    <tr>\n      <th>10014</th>\n      <td>175</td>\n      <td>142</td>\n      <td>121</td>\n      <td>181</td>\n      <td>150</td>\n      <td>134</td>\n      <td>181</td>\n      <td>150</td>\n      <td>133</td>\n      <td>178</td>\n      <td>...</td>\n      <td>159</td>\n      <td>79</td>\n      <td>82</td>\n      <td>174</td>\n      <td>137</td>\n      <td>125</td>\n      <td>175</td>\n      <td>139</td>\n      <td>126</td>\n      <td>6</td>\n    </tr>\n  </tbody>\n</table>\n<p>10015 rows × 2353 columns</p>\n</div>"
     },
     "metadata": {},
     "execution_count": 6
    }
   ],
   "source": [
    "image_df"
   ]
  },
  {
   "cell_type": "markdown",
   "id": "7721a970-1ae3-4f04-a9bd-70a5707a3ffc",
   "metadata": {},
   "source": [
    "# Clean data"
   ]
  },
  {
   "cell_type": "code",
   "execution_count": 7,
   "id": "f0b3ec0b-bace-4f09-bca6-2ca14f821fa6",
   "metadata": {},
   "outputs": [
    {
     "output_type": "execute_result",
     "data": {
      "text/plain": [
       "      localization     sex   age dx_type     dx\n",
       "0            scalp    male  80.0   histo    bkl\n",
       "1            scalp    male  80.0   histo    bkl\n",
       "2            scalp    male  80.0   histo    bkl\n",
       "3            scalp    male  80.0   histo    bkl\n",
       "4              ear    male  75.0   histo    bkl\n",
       "...            ...     ...   ...     ...    ...\n",
       "10010      abdomen    male  40.0   histo  akiec\n",
       "10011      abdomen    male  40.0   histo  akiec\n",
       "10012      abdomen    male  40.0   histo  akiec\n",
       "10013         face    male  80.0   histo  akiec\n",
       "10014         back  female  70.0   histo    mel\n",
       "\n",
       "[10015 rows x 5 columns]"
      ],
      "text/html": "<div>\n<style scoped>\n    .dataframe tbody tr th:only-of-type {\n        vertical-align: middle;\n    }\n\n    .dataframe tbody tr th {\n        vertical-align: top;\n    }\n\n    .dataframe thead th {\n        text-align: right;\n    }\n</style>\n<table border=\"1\" class=\"dataframe\">\n  <thead>\n    <tr style=\"text-align: right;\">\n      <th></th>\n      <th>localization</th>\n      <th>sex</th>\n      <th>age</th>\n      <th>dx_type</th>\n      <th>dx</th>\n    </tr>\n  </thead>\n  <tbody>\n    <tr>\n      <th>0</th>\n      <td>scalp</td>\n      <td>male</td>\n      <td>80.0</td>\n      <td>histo</td>\n      <td>bkl</td>\n    </tr>\n    <tr>\n      <th>1</th>\n      <td>scalp</td>\n      <td>male</td>\n      <td>80.0</td>\n      <td>histo</td>\n      <td>bkl</td>\n    </tr>\n    <tr>\n      <th>2</th>\n      <td>scalp</td>\n      <td>male</td>\n      <td>80.0</td>\n      <td>histo</td>\n      <td>bkl</td>\n    </tr>\n    <tr>\n      <th>3</th>\n      <td>scalp</td>\n      <td>male</td>\n      <td>80.0</td>\n      <td>histo</td>\n      <td>bkl</td>\n    </tr>\n    <tr>\n      <th>4</th>\n      <td>ear</td>\n      <td>male</td>\n      <td>75.0</td>\n      <td>histo</td>\n      <td>bkl</td>\n    </tr>\n    <tr>\n      <th>...</th>\n      <td>...</td>\n      <td>...</td>\n      <td>...</td>\n      <td>...</td>\n      <td>...</td>\n    </tr>\n    <tr>\n      <th>10010</th>\n      <td>abdomen</td>\n      <td>male</td>\n      <td>40.0</td>\n      <td>histo</td>\n      <td>akiec</td>\n    </tr>\n    <tr>\n      <th>10011</th>\n      <td>abdomen</td>\n      <td>male</td>\n      <td>40.0</td>\n      <td>histo</td>\n      <td>akiec</td>\n    </tr>\n    <tr>\n      <th>10012</th>\n      <td>abdomen</td>\n      <td>male</td>\n      <td>40.0</td>\n      <td>histo</td>\n      <td>akiec</td>\n    </tr>\n    <tr>\n      <th>10013</th>\n      <td>face</td>\n      <td>male</td>\n      <td>80.0</td>\n      <td>histo</td>\n      <td>akiec</td>\n    </tr>\n    <tr>\n      <th>10014</th>\n      <td>back</td>\n      <td>female</td>\n      <td>70.0</td>\n      <td>histo</td>\n      <td>mel</td>\n    </tr>\n  </tbody>\n</table>\n<p>10015 rows × 5 columns</p>\n</div>"
     },
     "metadata": {},
     "execution_count": 7
    }
   ],
   "source": [
    "# Remove ID labels, they do not contain interpretable information\n",
    "meta_df = meta_df.drop([\"lesion_id\",\"image_id\"], axis=1)\n",
    "\n",
    "# Reorder meta_df columns\n",
    "cols = meta_df.columns.tolist()\n",
    "\n",
    "cols[0], cols[-1] = cols[-1], cols[0]\n",
    "cols[1], cols[-2] = cols[-2], cols[1]\n",
    "\n",
    "meta_df = meta_df[cols]\n",
    "meta_df"
   ]
  },
  {
   "cell_type": "code",
   "execution_count": 8,
   "id": "76582cc6-192f-4525-a5a3-fff7736e0025",
   "metadata": {},
   "outputs": [
    {
     "output_type": "execute_result",
     "data": {
      "text/plain": [
       "       pixel0000  pixel0001  pixel0002  pixel0003  pixel0004  pixel0005  \\\n",
       "0            192        153        193        195        155        192   \n",
       "1             25         14         30         68         48         75   \n",
       "2            192        138        153        200        145        163   \n",
       "3             38         19         30         95         59         72   \n",
       "4            158        113        139        194        144        174   \n",
       "...          ...        ...        ...        ...        ...        ...   \n",
       "10010        183        165        181        182        165        180   \n",
       "10011          2          3          1         38         33         32   \n",
       "10012        132        118        118        167        149        149   \n",
       "10013        160        124        146        164        131        152   \n",
       "10014        175        142        121        181        150        134   \n",
       "\n",
       "       pixel0006  pixel0007  pixel0008  pixel0009  ...  pixel2342  pixel2343  \\\n",
       "0            197        154        185        202  ...        134        173   \n",
       "1            123         93        126        158  ...         82         60   \n",
       "2            201        142        160        206  ...        149        167   \n",
       "3            143        103        119        171  ...         73         44   \n",
       "4            215        162        191        225  ...        201        209   \n",
       "...          ...        ...        ...        ...  ...        ...        ...   \n",
       "10010        184        166        182        188  ...        181        208   \n",
       "10011        121        104        103        132  ...        129         96   \n",
       "10012        175        156        160        184  ...        190        204   \n",
       "10013        167        127        146        169  ...        165        185   \n",
       "10014        181        150        133        178  ...         48        159   \n",
       "\n",
       "       pixel2344  pixel2345  pixel2346  pixel2347  pixel2348  pixel2349  \\\n",
       "0            124        138        183        147        166        185   \n",
       "1             39         55         25         14         28         25   \n",
       "2            129        143        159        124        142        136   \n",
       "3             26         36         25         12         17         25   \n",
       "4            166        185        172        135        149        109   \n",
       "...          ...        ...        ...        ...        ...        ...   \n",
       "10010        185        187        208        186        186        206   \n",
       "10011         79         76         24         23         21          3   \n",
       "10012        181        178        181        159        153        172   \n",
       "10013        162        167        184        157        166        185   \n",
       "10014         79         82        174        137        125        175   \n",
       "\n",
       "       pixel2350  pixel2351  \n",
       "0            154        177  \n",
       "1             14         27  \n",
       "2            104        117  \n",
       "3             12         15  \n",
       "4             78         92  \n",
       "...          ...        ...  \n",
       "10010        187        189  \n",
       "10011          4          1  \n",
       "10012        151        145  \n",
       "10013        162        172  \n",
       "10014        139        126  \n",
       "\n",
       "[10015 rows x 2352 columns]"
      ],
      "text/html": "<div>\n<style scoped>\n    .dataframe tbody tr th:only-of-type {\n        vertical-align: middle;\n    }\n\n    .dataframe tbody tr th {\n        vertical-align: top;\n    }\n\n    .dataframe thead th {\n        text-align: right;\n    }\n</style>\n<table border=\"1\" class=\"dataframe\">\n  <thead>\n    <tr style=\"text-align: right;\">\n      <th></th>\n      <th>pixel0000</th>\n      <th>pixel0001</th>\n      <th>pixel0002</th>\n      <th>pixel0003</th>\n      <th>pixel0004</th>\n      <th>pixel0005</th>\n      <th>pixel0006</th>\n      <th>pixel0007</th>\n      <th>pixel0008</th>\n      <th>pixel0009</th>\n      <th>...</th>\n      <th>pixel2342</th>\n      <th>pixel2343</th>\n      <th>pixel2344</th>\n      <th>pixel2345</th>\n      <th>pixel2346</th>\n      <th>pixel2347</th>\n      <th>pixel2348</th>\n      <th>pixel2349</th>\n      <th>pixel2350</th>\n      <th>pixel2351</th>\n    </tr>\n  </thead>\n  <tbody>\n    <tr>\n      <th>0</th>\n      <td>192</td>\n      <td>153</td>\n      <td>193</td>\n      <td>195</td>\n      <td>155</td>\n      <td>192</td>\n      <td>197</td>\n      <td>154</td>\n      <td>185</td>\n      <td>202</td>\n      <td>...</td>\n      <td>134</td>\n      <td>173</td>\n      <td>124</td>\n      <td>138</td>\n      <td>183</td>\n      <td>147</td>\n      <td>166</td>\n      <td>185</td>\n      <td>154</td>\n      <td>177</td>\n    </tr>\n    <tr>\n      <th>1</th>\n      <td>25</td>\n      <td>14</td>\n      <td>30</td>\n      <td>68</td>\n      <td>48</td>\n      <td>75</td>\n      <td>123</td>\n      <td>93</td>\n      <td>126</td>\n      <td>158</td>\n      <td>...</td>\n      <td>82</td>\n      <td>60</td>\n      <td>39</td>\n      <td>55</td>\n      <td>25</td>\n      <td>14</td>\n      <td>28</td>\n      <td>25</td>\n      <td>14</td>\n      <td>27</td>\n    </tr>\n    <tr>\n      <th>2</th>\n      <td>192</td>\n      <td>138</td>\n      <td>153</td>\n      <td>200</td>\n      <td>145</td>\n      <td>163</td>\n      <td>201</td>\n      <td>142</td>\n      <td>160</td>\n      <td>206</td>\n      <td>...</td>\n      <td>149</td>\n      <td>167</td>\n      <td>129</td>\n      <td>143</td>\n      <td>159</td>\n      <td>124</td>\n      <td>142</td>\n      <td>136</td>\n      <td>104</td>\n      <td>117</td>\n    </tr>\n    <tr>\n      <th>3</th>\n      <td>38</td>\n      <td>19</td>\n      <td>30</td>\n      <td>95</td>\n      <td>59</td>\n      <td>72</td>\n      <td>143</td>\n      <td>103</td>\n      <td>119</td>\n      <td>171</td>\n      <td>...</td>\n      <td>73</td>\n      <td>44</td>\n      <td>26</td>\n      <td>36</td>\n      <td>25</td>\n      <td>12</td>\n      <td>17</td>\n      <td>25</td>\n      <td>12</td>\n      <td>15</td>\n    </tr>\n    <tr>\n      <th>4</th>\n      <td>158</td>\n      <td>113</td>\n      <td>139</td>\n      <td>194</td>\n      <td>144</td>\n      <td>174</td>\n      <td>215</td>\n      <td>162</td>\n      <td>191</td>\n      <td>225</td>\n      <td>...</td>\n      <td>201</td>\n      <td>209</td>\n      <td>166</td>\n      <td>185</td>\n      <td>172</td>\n      <td>135</td>\n      <td>149</td>\n      <td>109</td>\n      <td>78</td>\n      <td>92</td>\n    </tr>\n    <tr>\n      <th>...</th>\n      <td>...</td>\n      <td>...</td>\n      <td>...</td>\n      <td>...</td>\n      <td>...</td>\n      <td>...</td>\n      <td>...</td>\n      <td>...</td>\n      <td>...</td>\n      <td>...</td>\n      <td>...</td>\n      <td>...</td>\n      <td>...</td>\n      <td>...</td>\n      <td>...</td>\n      <td>...</td>\n      <td>...</td>\n      <td>...</td>\n      <td>...</td>\n      <td>...</td>\n      <td>...</td>\n    </tr>\n    <tr>\n      <th>10010</th>\n      <td>183</td>\n      <td>165</td>\n      <td>181</td>\n      <td>182</td>\n      <td>165</td>\n      <td>180</td>\n      <td>184</td>\n      <td>166</td>\n      <td>182</td>\n      <td>188</td>\n      <td>...</td>\n      <td>181</td>\n      <td>208</td>\n      <td>185</td>\n      <td>187</td>\n      <td>208</td>\n      <td>186</td>\n      <td>186</td>\n      <td>206</td>\n      <td>187</td>\n      <td>189</td>\n    </tr>\n    <tr>\n      <th>10011</th>\n      <td>2</td>\n      <td>3</td>\n      <td>1</td>\n      <td>38</td>\n      <td>33</td>\n      <td>32</td>\n      <td>121</td>\n      <td>104</td>\n      <td>103</td>\n      <td>132</td>\n      <td>...</td>\n      <td>129</td>\n      <td>96</td>\n      <td>79</td>\n      <td>76</td>\n      <td>24</td>\n      <td>23</td>\n      <td>21</td>\n      <td>3</td>\n      <td>4</td>\n      <td>1</td>\n    </tr>\n    <tr>\n      <th>10012</th>\n      <td>132</td>\n      <td>118</td>\n      <td>118</td>\n      <td>167</td>\n      <td>149</td>\n      <td>149</td>\n      <td>175</td>\n      <td>156</td>\n      <td>160</td>\n      <td>184</td>\n      <td>...</td>\n      <td>190</td>\n      <td>204</td>\n      <td>181</td>\n      <td>178</td>\n      <td>181</td>\n      <td>159</td>\n      <td>153</td>\n      <td>172</td>\n      <td>151</td>\n      <td>145</td>\n    </tr>\n    <tr>\n      <th>10013</th>\n      <td>160</td>\n      <td>124</td>\n      <td>146</td>\n      <td>164</td>\n      <td>131</td>\n      <td>152</td>\n      <td>167</td>\n      <td>127</td>\n      <td>146</td>\n      <td>169</td>\n      <td>...</td>\n      <td>165</td>\n      <td>185</td>\n      <td>162</td>\n      <td>167</td>\n      <td>184</td>\n      <td>157</td>\n      <td>166</td>\n      <td>185</td>\n      <td>162</td>\n      <td>172</td>\n    </tr>\n    <tr>\n      <th>10014</th>\n      <td>175</td>\n      <td>142</td>\n      <td>121</td>\n      <td>181</td>\n      <td>150</td>\n      <td>134</td>\n      <td>181</td>\n      <td>150</td>\n      <td>133</td>\n      <td>178</td>\n      <td>...</td>\n      <td>48</td>\n      <td>159</td>\n      <td>79</td>\n      <td>82</td>\n      <td>174</td>\n      <td>137</td>\n      <td>125</td>\n      <td>175</td>\n      <td>139</td>\n      <td>126</td>\n    </tr>\n  </tbody>\n</table>\n<p>10015 rows × 2352 columns</p>\n</div>"
     },
     "metadata": {},
     "execution_count": 8
    }
   ],
   "source": [
    "# Remove \"label\" from image df, this information is already in meta_df\n",
    "image_df = image_df.drop([\"label\"], axis=1)\n",
    "image_df"
   ]
  },
  {
   "cell_type": "markdown",
   "id": "24bba1a6-87f9-4853-99ee-c16e1f02c17f",
   "metadata": {},
   "source": [
    "# Visualize data once more (in more depth)\n",
    "## Statistics"
   ]
  },
  {
   "cell_type": "code",
   "execution_count": 9,
   "id": "66ac4675-28e6-497c-92d1-80dcbfbfb931",
   "metadata": {},
   "outputs": [
    {
     "output_type": "execute_result",
     "data": {
      "text/plain": [
       "               age\n",
       "count  9958.000000\n",
       "mean     51.863828\n",
       "std      16.968614\n",
       "min       0.000000\n",
       "25%      40.000000\n",
       "50%      50.000000\n",
       "75%      65.000000\n",
       "max      85.000000"
      ],
      "text/html": "<div>\n<style scoped>\n    .dataframe tbody tr th:only-of-type {\n        vertical-align: middle;\n    }\n\n    .dataframe tbody tr th {\n        vertical-align: top;\n    }\n\n    .dataframe thead th {\n        text-align: right;\n    }\n</style>\n<table border=\"1\" class=\"dataframe\">\n  <thead>\n    <tr style=\"text-align: right;\">\n      <th></th>\n      <th>age</th>\n    </tr>\n  </thead>\n  <tbody>\n    <tr>\n      <th>count</th>\n      <td>9958.000000</td>\n    </tr>\n    <tr>\n      <th>mean</th>\n      <td>51.863828</td>\n    </tr>\n    <tr>\n      <th>std</th>\n      <td>16.968614</td>\n    </tr>\n    <tr>\n      <th>min</th>\n      <td>0.000000</td>\n    </tr>\n    <tr>\n      <th>25%</th>\n      <td>40.000000</td>\n    </tr>\n    <tr>\n      <th>50%</th>\n      <td>50.000000</td>\n    </tr>\n    <tr>\n      <th>75%</th>\n      <td>65.000000</td>\n    </tr>\n    <tr>\n      <th>max</th>\n      <td>85.000000</td>\n    </tr>\n  </tbody>\n</table>\n</div>"
     },
     "metadata": {},
     "execution_count": 9
    }
   ],
   "source": [
    "meta_df.describe()"
   ]
  },
  {
   "cell_type": "code",
   "execution_count": 10,
   "id": "2984de47-196f-4180-9a87-26455ad3aa47",
   "metadata": {},
   "outputs": [
    {
     "output_type": "execute_result",
     "data": {
      "text/plain": [
       "       localization    sex dx_type     dx\n",
       "count         10015  10015   10015  10015\n",
       "unique           15      3       4      7\n",
       "top            back   male   histo     nv\n",
       "freq           2192   5406    5340   6705"
      ],
      "text/html": "<div>\n<style scoped>\n    .dataframe tbody tr th:only-of-type {\n        vertical-align: middle;\n    }\n\n    .dataframe tbody tr th {\n        vertical-align: top;\n    }\n\n    .dataframe thead th {\n        text-align: right;\n    }\n</style>\n<table border=\"1\" class=\"dataframe\">\n  <thead>\n    <tr style=\"text-align: right;\">\n      <th></th>\n      <th>localization</th>\n      <th>sex</th>\n      <th>dx_type</th>\n      <th>dx</th>\n    </tr>\n  </thead>\n  <tbody>\n    <tr>\n      <th>count</th>\n      <td>10015</td>\n      <td>10015</td>\n      <td>10015</td>\n      <td>10015</td>\n    </tr>\n    <tr>\n      <th>unique</th>\n      <td>15</td>\n      <td>3</td>\n      <td>4</td>\n      <td>7</td>\n    </tr>\n    <tr>\n      <th>top</th>\n      <td>back</td>\n      <td>male</td>\n      <td>histo</td>\n      <td>nv</td>\n    </tr>\n    <tr>\n      <th>freq</th>\n      <td>2192</td>\n      <td>5406</td>\n      <td>5340</td>\n      <td>6705</td>\n    </tr>\n  </tbody>\n</table>\n</div>"
     },
     "metadata": {},
     "execution_count": 10
    }
   ],
   "source": [
    "meta_df[meta_df.columns.drop(\"age\")].describe()"
   ]
  },
  {
   "cell_type": "code",
   "execution_count": 11,
   "id": "2bc50dd9-440f-42fd-b956-0ebe879b6013",
   "metadata": {},
   "outputs": [
    {
     "output_type": "execute_result",
     "data": {
      "text/plain": [
       "          pixel0000     pixel0001    pixel0002     pixel0003     pixel0004  \\\n",
       "count  10015.000000  10015.000000  10015.00000  10015.000000  10015.000000   \n",
       "mean     181.056415    131.728407    141.24024    187.274488    137.089466   \n",
       "std       59.746698     45.043473     48.67267     54.021274     41.138096   \n",
       "min        0.000000      0.000000      0.00000      0.000000      0.000000   \n",
       "25%      158.000000    117.000000    123.00000    165.000000    122.000000   \n",
       "50%      198.000000    141.000000    151.00000    201.000000    144.000000   \n",
       "75%      224.000000    159.000000    172.00000    226.000000    162.000000   \n",
       "max      255.000000    246.000000    255.00000    254.000000    246.000000   \n",
       "\n",
       "          pixel0005     pixel0006     pixel0007     pixel0008     pixel0009  \\\n",
       "count  10015.000000  10015.000000  10015.000000  10015.000000  10015.000000   \n",
       "mean     147.206191    192.358862    141.796405    152.211782    196.177234   \n",
       "std       44.661091     48.267713     37.382709     40.725174     43.892249   \n",
       "min        0.000000      0.000000      0.000000      0.000000      0.000000   \n",
       "25%      130.000000    170.000000    127.000000    135.000000    174.000000   \n",
       "50%      155.000000    204.000000    146.000000    157.000000    205.000000   \n",
       "75%      174.000000    227.000000    163.000000    177.000000    228.000000   \n",
       "max      254.000000    255.000000    251.000000    255.000000    255.000000   \n",
       "\n",
       "       ...     pixel2342    pixel2343     pixel2344     pixel2345  \\\n",
       "count  ...  10015.000000  10015.00000  10015.000000  10015.000000   \n",
       "mean   ...    148.545781    184.68657    138.416875    144.061508   \n",
       "std    ...     37.018206     47.02376     38.393007     41.322365   \n",
       "min    ...      0.000000      0.00000      0.000000      0.000000   \n",
       "25%    ...    129.000000    166.00000    123.000000    126.000000   \n",
       "50%    ...    151.000000    197.00000    144.000000    149.000000   \n",
       "75%    ...    171.000000    216.00000    161.000000    169.000000   \n",
       "max    ...    254.000000    255.00000    254.000000    254.000000   \n",
       "\n",
       "          pixel2346     pixel2347     pixel2348     pixel2349     pixel2350  \\\n",
       "count  10015.000000  10015.000000  10015.000000  10015.000000  10015.000000   \n",
       "mean     178.656216    133.217474    138.752172    172.307239    127.871193   \n",
       "std       53.534096     42.910723     45.642257     58.533979     46.453818   \n",
       "min        0.000000      0.000000      0.000000      0.000000      0.000000   \n",
       "25%      160.000000    118.000000    120.000000    153.000000    113.000000   \n",
       "50%      195.000000    141.000000    146.000000    191.000000    138.000000   \n",
       "75%      214.000000    159.000000    166.000000    212.000000    156.000000   \n",
       "max      254.000000    252.000000    255.000000    254.000000    249.000000   \n",
       "\n",
       "          pixel2351  \n",
       "count  10015.000000  \n",
       "mean     133.144483  \n",
       "std       49.060028  \n",
       "min        0.000000  \n",
       "25%      115.000000  \n",
       "50%      142.000000  \n",
       "75%      163.000000  \n",
       "max      254.000000  \n",
       "\n",
       "[8 rows x 2352 columns]"
      ],
      "text/html": "<div>\n<style scoped>\n    .dataframe tbody tr th:only-of-type {\n        vertical-align: middle;\n    }\n\n    .dataframe tbody tr th {\n        vertical-align: top;\n    }\n\n    .dataframe thead th {\n        text-align: right;\n    }\n</style>\n<table border=\"1\" class=\"dataframe\">\n  <thead>\n    <tr style=\"text-align: right;\">\n      <th></th>\n      <th>pixel0000</th>\n      <th>pixel0001</th>\n      <th>pixel0002</th>\n      <th>pixel0003</th>\n      <th>pixel0004</th>\n      <th>pixel0005</th>\n      <th>pixel0006</th>\n      <th>pixel0007</th>\n      <th>pixel0008</th>\n      <th>pixel0009</th>\n      <th>...</th>\n      <th>pixel2342</th>\n      <th>pixel2343</th>\n      <th>pixel2344</th>\n      <th>pixel2345</th>\n      <th>pixel2346</th>\n      <th>pixel2347</th>\n      <th>pixel2348</th>\n      <th>pixel2349</th>\n      <th>pixel2350</th>\n      <th>pixel2351</th>\n    </tr>\n  </thead>\n  <tbody>\n    <tr>\n      <th>count</th>\n      <td>10015.000000</td>\n      <td>10015.000000</td>\n      <td>10015.00000</td>\n      <td>10015.000000</td>\n      <td>10015.000000</td>\n      <td>10015.000000</td>\n      <td>10015.000000</td>\n      <td>10015.000000</td>\n      <td>10015.000000</td>\n      <td>10015.000000</td>\n      <td>...</td>\n      <td>10015.000000</td>\n      <td>10015.00000</td>\n      <td>10015.000000</td>\n      <td>10015.000000</td>\n      <td>10015.000000</td>\n      <td>10015.000000</td>\n      <td>10015.000000</td>\n      <td>10015.000000</td>\n      <td>10015.000000</td>\n      <td>10015.000000</td>\n    </tr>\n    <tr>\n      <th>mean</th>\n      <td>181.056415</td>\n      <td>131.728407</td>\n      <td>141.24024</td>\n      <td>187.274488</td>\n      <td>137.089466</td>\n      <td>147.206191</td>\n      <td>192.358862</td>\n      <td>141.796405</td>\n      <td>152.211782</td>\n      <td>196.177234</td>\n      <td>...</td>\n      <td>148.545781</td>\n      <td>184.68657</td>\n      <td>138.416875</td>\n      <td>144.061508</td>\n      <td>178.656216</td>\n      <td>133.217474</td>\n      <td>138.752172</td>\n      <td>172.307239</td>\n      <td>127.871193</td>\n      <td>133.144483</td>\n    </tr>\n    <tr>\n      <th>std</th>\n      <td>59.746698</td>\n      <td>45.043473</td>\n      <td>48.67267</td>\n      <td>54.021274</td>\n      <td>41.138096</td>\n      <td>44.661091</td>\n      <td>48.267713</td>\n      <td>37.382709</td>\n      <td>40.725174</td>\n      <td>43.892249</td>\n      <td>...</td>\n      <td>37.018206</td>\n      <td>47.02376</td>\n      <td>38.393007</td>\n      <td>41.322365</td>\n      <td>53.534096</td>\n      <td>42.910723</td>\n      <td>45.642257</td>\n      <td>58.533979</td>\n      <td>46.453818</td>\n      <td>49.060028</td>\n    </tr>\n    <tr>\n      <th>min</th>\n      <td>0.000000</td>\n      <td>0.000000</td>\n      <td>0.00000</td>\n      <td>0.000000</td>\n      <td>0.000000</td>\n      <td>0.000000</td>\n      <td>0.000000</td>\n      <td>0.000000</td>\n      <td>0.000000</td>\n      <td>0.000000</td>\n      <td>...</td>\n      <td>0.000000</td>\n      <td>0.00000</td>\n      <td>0.000000</td>\n      <td>0.000000</td>\n      <td>0.000000</td>\n      <td>0.000000</td>\n      <td>0.000000</td>\n      <td>0.000000</td>\n      <td>0.000000</td>\n      <td>0.000000</td>\n    </tr>\n    <tr>\n      <th>25%</th>\n      <td>158.000000</td>\n      <td>117.000000</td>\n      <td>123.00000</td>\n      <td>165.000000</td>\n      <td>122.000000</td>\n      <td>130.000000</td>\n      <td>170.000000</td>\n      <td>127.000000</td>\n      <td>135.000000</td>\n      <td>174.000000</td>\n      <td>...</td>\n      <td>129.000000</td>\n      <td>166.00000</td>\n      <td>123.000000</td>\n      <td>126.000000</td>\n      <td>160.000000</td>\n      <td>118.000000</td>\n      <td>120.000000</td>\n      <td>153.000000</td>\n      <td>113.000000</td>\n      <td>115.000000</td>\n    </tr>\n    <tr>\n      <th>50%</th>\n      <td>198.000000</td>\n      <td>141.000000</td>\n      <td>151.00000</td>\n      <td>201.000000</td>\n      <td>144.000000</td>\n      <td>155.000000</td>\n      <td>204.000000</td>\n      <td>146.000000</td>\n      <td>157.000000</td>\n      <td>205.000000</td>\n      <td>...</td>\n      <td>151.000000</td>\n      <td>197.00000</td>\n      <td>144.000000</td>\n      <td>149.000000</td>\n      <td>195.000000</td>\n      <td>141.000000</td>\n      <td>146.000000</td>\n      <td>191.000000</td>\n      <td>138.000000</td>\n      <td>142.000000</td>\n    </tr>\n    <tr>\n      <th>75%</th>\n      <td>224.000000</td>\n      <td>159.000000</td>\n      <td>172.00000</td>\n      <td>226.000000</td>\n      <td>162.000000</td>\n      <td>174.000000</td>\n      <td>227.000000</td>\n      <td>163.000000</td>\n      <td>177.000000</td>\n      <td>228.000000</td>\n      <td>...</td>\n      <td>171.000000</td>\n      <td>216.00000</td>\n      <td>161.000000</td>\n      <td>169.000000</td>\n      <td>214.000000</td>\n      <td>159.000000</td>\n      <td>166.000000</td>\n      <td>212.000000</td>\n      <td>156.000000</td>\n      <td>163.000000</td>\n    </tr>\n    <tr>\n      <th>max</th>\n      <td>255.000000</td>\n      <td>246.000000</td>\n      <td>255.00000</td>\n      <td>254.000000</td>\n      <td>246.000000</td>\n      <td>254.000000</td>\n      <td>255.000000</td>\n      <td>251.000000</td>\n      <td>255.000000</td>\n      <td>255.000000</td>\n      <td>...</td>\n      <td>254.000000</td>\n      <td>255.00000</td>\n      <td>254.000000</td>\n      <td>254.000000</td>\n      <td>254.000000</td>\n      <td>252.000000</td>\n      <td>255.000000</td>\n      <td>254.000000</td>\n      <td>249.000000</td>\n      <td>254.000000</td>\n    </tr>\n  </tbody>\n</table>\n<p>8 rows × 2352 columns</p>\n</div>"
     },
     "metadata": {},
     "execution_count": 11
    }
   ],
   "source": [
    "image_df.describe()"
   ]
  },
  {
   "cell_type": "code",
   "execution_count": 12,
   "metadata": {},
   "outputs": [
    {
     "output_type": "execute_result",
     "data": {
      "text/plain": [
       "2352"
      ]
     },
     "metadata": {},
     "execution_count": 12
    }
   ],
   "source": [
    "image_df.shape[1]"
   ]
  },
  {
   "cell_type": "code",
   "execution_count": 70,
   "metadata": {},
   "outputs": [
    {
     "output_type": "execute_result",
     "data": {
      "text/plain": [
       "{1}"
      ]
     },
     "metadata": {},
     "execution_count": 70
    }
   ],
   "source": [
    "desc = image_df.notnull().describe()\n",
    "set(desc.loc[\"unique\",:])"
   ]
  },
  {
   "cell_type": "code",
   "execution_count": 75,
   "metadata": {},
   "outputs": [
    {
     "output_type": "execute_result",
     "data": {
      "text/plain": [
       "{0.0,\n",
       " nan,\n",
       " nan,\n",
       " nan,\n",
       " nan,\n",
       " nan,\n",
       " nan,\n",
       " nan,\n",
       " nan,\n",
       " nan,\n",
       " nan,\n",
       " 5.0,\n",
       " nan,\n",
       " nan,\n",
       " 10.0,\n",
       " 15.0,\n",
       " nan,\n",
       " nan,\n",
       " nan,\n",
       " nan,\n",
       " 20.0,\n",
       " nan,\n",
       " nan,\n",
       " 25.0,\n",
       " nan,\n",
       " nan,\n",
       " 30.0,\n",
       " nan,\n",
       " nan,\n",
       " nan,\n",
       " nan,\n",
       " 35.0,\n",
       " nan,\n",
       " nan,\n",
       " nan,\n",
       " nan,\n",
       " 40.0,\n",
       " 45.0,\n",
       " 50.0,\n",
       " 55.0,\n",
       " 60.0,\n",
       " nan,\n",
       " nan,\n",
       " 65.0,\n",
       " nan,\n",
       " nan,\n",
       " nan,\n",
       " nan,\n",
       " 70.0,\n",
       " nan,\n",
       " nan,\n",
       " nan,\n",
       " nan,\n",
       " 75.0,\n",
       " nan,\n",
       " nan,\n",
       " nan,\n",
       " nan,\n",
       " 80.0,\n",
       " nan,\n",
       " nan,\n",
       " nan,\n",
       " nan,\n",
       " 85.0,\n",
       " nan,\n",
       " nan,\n",
       " nan,\n",
       " nan,\n",
       " nan,\n",
       " nan,\n",
       " nan,\n",
       " nan,\n",
       " nan,\n",
       " nan,\n",
       " nan}"
      ]
     },
     "metadata": {},
     "execution_count": 75
    }
   ],
   "source": [
    "desc = meta_df.notnull().describe()\n",
    "set(meta_df.age)"
   ]
  },
  {
   "source": [
    "# Preprocessing"
   ],
   "cell_type": "markdown",
   "metadata": {}
  },
  {
   "cell_type": "code",
   "execution_count": 13,
   "id": "faa6933f-0e1b-4f17-a0e4-21942020edc1",
   "metadata": {},
   "outputs": [
    {
     "output_type": "execute_result",
     "data": {
      "text/plain": [
       "  localization   sex   age dx_type   dx\n",
       "0        scalp  male  80.0   histo  bkl\n",
       "1        scalp  male  80.0   histo  bkl\n",
       "2        scalp  male  80.0   histo  bkl\n",
       "3        scalp  male  80.0   histo  bkl\n",
       "4          ear  male  75.0   histo  bkl"
      ],
      "text/html": "<div>\n<style scoped>\n    .dataframe tbody tr th:only-of-type {\n        vertical-align: middle;\n    }\n\n    .dataframe tbody tr th {\n        vertical-align: top;\n    }\n\n    .dataframe thead th {\n        text-align: right;\n    }\n</style>\n<table border=\"1\" class=\"dataframe\">\n  <thead>\n    <tr style=\"text-align: right;\">\n      <th></th>\n      <th>localization</th>\n      <th>sex</th>\n      <th>age</th>\n      <th>dx_type</th>\n      <th>dx</th>\n    </tr>\n  </thead>\n  <tbody>\n    <tr>\n      <th>0</th>\n      <td>scalp</td>\n      <td>male</td>\n      <td>80.0</td>\n      <td>histo</td>\n      <td>bkl</td>\n    </tr>\n    <tr>\n      <th>1</th>\n      <td>scalp</td>\n      <td>male</td>\n      <td>80.0</td>\n      <td>histo</td>\n      <td>bkl</td>\n    </tr>\n    <tr>\n      <th>2</th>\n      <td>scalp</td>\n      <td>male</td>\n      <td>80.0</td>\n      <td>histo</td>\n      <td>bkl</td>\n    </tr>\n    <tr>\n      <th>3</th>\n      <td>scalp</td>\n      <td>male</td>\n      <td>80.0</td>\n      <td>histo</td>\n      <td>bkl</td>\n    </tr>\n    <tr>\n      <th>4</th>\n      <td>ear</td>\n      <td>male</td>\n      <td>75.0</td>\n      <td>histo</td>\n      <td>bkl</td>\n    </tr>\n  </tbody>\n</table>\n</div>"
     },
     "metadata": {},
     "execution_count": 13
    }
   ],
   "source": [
    "meta_df.head()"
   ]
  },
  {
   "cell_type": "code",
   "execution_count": 14,
   "metadata": {},
   "outputs": [
    {
     "output_type": "execute_result",
     "data": {
      "text/plain": [
       "(10015, 5)"
      ]
     },
     "metadata": {},
     "execution_count": 14
    }
   ],
   "source": [
    "meta_df.shape"
   ]
  },
  {
   "cell_type": "code",
   "execution_count": 15,
   "metadata": {},
   "outputs": [
    {
     "output_type": "execute_result",
     "data": {
      "text/plain": [
       "7"
      ]
     },
     "metadata": {},
     "execution_count": 15
    }
   ],
   "source": [
    "target = meta_df.dx\n",
    "len(set(target))"
   ]
  },
  {
   "cell_type": "code",
   "execution_count": 16,
   "metadata": {},
   "outputs": [
    {
     "output_type": "execute_result",
     "data": {
      "text/plain": [
       "  localization   sex   age dx_type   dx\n",
       "0        scalp  male  80.0   histo  bkl\n",
       "1        scalp  male  80.0   histo  bkl\n",
       "2        scalp  male  80.0   histo  bkl\n",
       "3        scalp  male  80.0   histo  bkl\n",
       "4          ear  male  75.0   histo  bkl"
      ],
      "text/html": "<div>\n<style scoped>\n    .dataframe tbody tr th:only-of-type {\n        vertical-align: middle;\n    }\n\n    .dataframe tbody tr th {\n        vertical-align: top;\n    }\n\n    .dataframe thead th {\n        text-align: right;\n    }\n</style>\n<table border=\"1\" class=\"dataframe\">\n  <thead>\n    <tr style=\"text-align: right;\">\n      <th></th>\n      <th>localization</th>\n      <th>sex</th>\n      <th>age</th>\n      <th>dx_type</th>\n      <th>dx</th>\n    </tr>\n  </thead>\n  <tbody>\n    <tr>\n      <th>0</th>\n      <td>scalp</td>\n      <td>male</td>\n      <td>80.0</td>\n      <td>histo</td>\n      <td>bkl</td>\n    </tr>\n    <tr>\n      <th>1</th>\n      <td>scalp</td>\n      <td>male</td>\n      <td>80.0</td>\n      <td>histo</td>\n      <td>bkl</td>\n    </tr>\n    <tr>\n      <th>2</th>\n      <td>scalp</td>\n      <td>male</td>\n      <td>80.0</td>\n      <td>histo</td>\n      <td>bkl</td>\n    </tr>\n    <tr>\n      <th>3</th>\n      <td>scalp</td>\n      <td>male</td>\n      <td>80.0</td>\n      <td>histo</td>\n      <td>bkl</td>\n    </tr>\n    <tr>\n      <th>4</th>\n      <td>ear</td>\n      <td>male</td>\n      <td>75.0</td>\n      <td>histo</td>\n      <td>bkl</td>\n    </tr>\n  </tbody>\n</table>\n</div>"
     },
     "metadata": {},
     "execution_count": 16
    }
   ],
   "source": [
    "meta_df.head()"
   ]
  },
  {
   "cell_type": "code",
   "execution_count": 17,
   "metadata": {},
   "outputs": [],
   "source": [
    "#categorical columns\n",
    "cat_df = meta_df.drop(['age'], axis = 1) \n",
    "num_df = meta_df['age']"
   ]
  },
  {
   "cell_type": "code",
   "execution_count": 18,
   "metadata": {},
   "outputs": [
    {
     "output_type": "execute_result",
     "data": {
      "text/plain": [
       "   localization  sex  dx_type   age  dx\n",
       "0            11    1        3  80.0   2\n",
       "1            11    1        3  80.0   2\n",
       "2            11    1        3  80.0   2\n",
       "3            11    1        3  80.0   2\n",
       "4             4    1        3  75.0   2"
      ],
      "text/html": "<div>\n<style scoped>\n    .dataframe tbody tr th:only-of-type {\n        vertical-align: middle;\n    }\n\n    .dataframe tbody tr th {\n        vertical-align: top;\n    }\n\n    .dataframe thead th {\n        text-align: right;\n    }\n</style>\n<table border=\"1\" class=\"dataframe\">\n  <thead>\n    <tr style=\"text-align: right;\">\n      <th></th>\n      <th>localization</th>\n      <th>sex</th>\n      <th>dx_type</th>\n      <th>age</th>\n      <th>dx</th>\n    </tr>\n  </thead>\n  <tbody>\n    <tr>\n      <th>0</th>\n      <td>11</td>\n      <td>1</td>\n      <td>3</td>\n      <td>80.0</td>\n      <td>2</td>\n    </tr>\n    <tr>\n      <th>1</th>\n      <td>11</td>\n      <td>1</td>\n      <td>3</td>\n      <td>80.0</td>\n      <td>2</td>\n    </tr>\n    <tr>\n      <th>2</th>\n      <td>11</td>\n      <td>1</td>\n      <td>3</td>\n      <td>80.0</td>\n      <td>2</td>\n    </tr>\n    <tr>\n      <th>3</th>\n      <td>11</td>\n      <td>1</td>\n      <td>3</td>\n      <td>80.0</td>\n      <td>2</td>\n    </tr>\n    <tr>\n      <th>4</th>\n      <td>4</td>\n      <td>1</td>\n      <td>3</td>\n      <td>75.0</td>\n      <td>2</td>\n    </tr>\n  </tbody>\n</table>\n</div>"
     },
     "metadata": {},
     "execution_count": 18
    }
   ],
   "source": [
    "le = LabelEncoder()\n",
    "cat_df_e = cat_df.apply(LabelEncoder().fit_transform)\n",
    "meta_df_e = pd.concat([cat_df_e.iloc[:,:-1], num_df, cat_df_e.iloc[:,-1]], axis=1)\n",
    "meta_df_e.head()"
   ]
  },
  {
   "source": [
    "## Baseline"
   ],
   "cell_type": "markdown",
   "metadata": {}
  },
  {
   "cell_type": "code",
   "execution_count": 60,
   "metadata": {},
   "outputs": [],
   "source": [
    "#inputs\n",
    "localization_in = keras.Input(shape=1)\n",
    "sex_in = keras.Input(shape=1)\n",
    "dx_type_in = keras.Input(shape=1)\n",
    "age_in = keras.Input(shape=1)\n",
    "pics_in = keras.Input(shape=image_df.shape[1])\n",
    "\n",
    "# embedding layers\n",
    "localization_emb = keras.layers.Embedding(input_dim=len(meta_df_e.localization.unique()), output_dim=64)\n",
    "sex_emb = keras.layers.Embedding(input_dim=len(meta_df_e.sex.unique()), output_dim=64)\n",
    "dx_type_emb = keras.layers.Embedding(input_dim=len(meta_df_e.dx_type.unique()), output_dim=64)\n",
    "\n",
    "# reshape layers\n",
    "reshape_layer = keras.layers.Reshape((64,))\n",
    "\n",
    "# dense layers\n",
    "age_den = keras.layers.Dense(units=64)\n",
    "pics_den = keras.layers.Dense(units=64)\n",
    "\n",
    "concat_in = keras.layers.Concatenate()\n",
    "output_layer = keras.layers.Dense(units=len(meta_df_e.dx.unique()), activation='softmax')"
   ]
  },
  {
   "cell_type": "code",
   "execution_count": 61,
   "metadata": {},
   "outputs": [],
   "source": [
    "# connecting layers\n",
    "localization_tensor_ = localization_emb(localization_in)\n",
    "sex_tensor_ = sex_emb(sex_in)\n",
    "dx_type_tensor_ = dx_type_emb(dx_type_in)\n",
    "age_tensor = age_den(age_in)\n",
    "pic_tensor = pics_den(pics_in/255)\n",
    "\n",
    "localization_tensor = reshape_layer(localization_tensor_)\n",
    "sex_tensor = reshape_layer(sex_tensor_)\n",
    "dx_type_tensor = reshape_layer(dx_type_tensor_)\n",
    "\n",
    "connected_layers = concat_in([localization_tensor,sex_tensor,dx_type_tensor,age_tensor]) #pic_tensor\n",
    "\n",
    "output = output_layer(connected_layers)"
   ]
  },
  {
   "cell_type": "code",
   "execution_count": 62,
   "metadata": {},
   "outputs": [],
   "source": [
    "model = keras.Model(inputs=[localization_in, sex_in, dx_type_in, age_in], outputs=output) #pics_in"
   ]
  },
  {
   "cell_type": "code",
   "execution_count": 63,
   "metadata": {},
   "outputs": [
    {
     "output_type": "stream",
     "name": "stdout",
     "text": [
      "Model: \"model_7\"\n__________________________________________________________________________________________________\nLayer (type)                    Output Shape         Param #     Connected to                     \n==================================================================================================\ninput_11 (InputLayer)           [(None, 1)]          0                                            \n__________________________________________________________________________________________________\ninput_12 (InputLayer)           [(None, 1)]          0                                            \n__________________________________________________________________________________________________\ninput_13 (InputLayer)           [(None, 1)]          0                                            \n__________________________________________________________________________________________________\nembedding_6 (Embedding)         (None, 1, 64)        960         input_11[0][0]                   \n__________________________________________________________________________________________________\nembedding_7 (Embedding)         (None, 1, 64)        192         input_12[0][0]                   \n__________________________________________________________________________________________________\nembedding_8 (Embedding)         (None, 1, 64)        256         input_13[0][0]                   \n__________________________________________________________________________________________________\ninput_14 (InputLayer)           [(None, 1)]          0                                            \n__________________________________________________________________________________________________\nreshape_2 (Reshape)             (None, 64)           0           embedding_6[0][0]                \n                                                                 embedding_7[0][0]                \n                                                                 embedding_8[0][0]                \n__________________________________________________________________________________________________\ndense_6 (Dense)                 (None, 64)           128         input_14[0][0]                   \n__________________________________________________________________________________________________\nconcatenate_2 (Concatenate)     (None, 256)          0           reshape_2[0][0]                  \n                                                                 reshape_2[1][0]                  \n                                                                 reshape_2[2][0]                  \n                                                                 dense_6[0][0]                    \n__________________________________________________________________________________________________\ndense_8 (Dense)                 (None, 7)            1799        concatenate_2[0][0]              \n==================================================================================================\nTotal params: 3,335\nTrainable params: 3,335\nNon-trainable params: 0\n__________________________________________________________________________________________________\n"
     ]
    }
   ],
   "source": [
    "model.summary()"
   ]
  },
  {
   "cell_type": "code",
   "execution_count": 64,
   "metadata": {},
   "outputs": [],
   "source": [
    "model.compile(loss=keras.losses.SparseCategoricalCrossentropy(),\n",
    "            optimizer=keras.optimizers.SGD(),\n",
    "            metrics=['accuracy'])"
   ]
  },
  {
   "cell_type": "code",
   "execution_count": 67,
   "metadata": {},
   "outputs": [
    {
     "output_type": "execute_result",
     "data": {
      "text/plain": [
       "0        2\n",
       "1        2\n",
       "2        2\n",
       "3        2\n",
       "4        2\n",
       "        ..\n",
       "10010    0\n",
       "10011    0\n",
       "10012    0\n",
       "10013    0\n",
       "10014    4\n",
       "Name: dx, Length: 10015, dtype: int64"
      ]
     },
     "metadata": {},
     "execution_count": 67
    }
   ],
   "source": [
    "meta_df_e.dx"
   ]
  },
  {
   "cell_type": "code",
   "execution_count": 65,
   "metadata": {},
   "outputs": [
    {
     "output_type": "stream",
     "name": "stdout",
     "text": [
      "Epoch 1/10\n",
      "21/21 [==============================] - 2s 30ms/step - loss: nan - accuracy: 0.0343\n",
      "Epoch 2/10\n",
      "21/21 [==============================] - 1s 32ms/step - loss: nan - accuracy: 0.0314\n",
      "Epoch 3/10\n",
      "21/21 [==============================] - 1s 30ms/step - loss: nan - accuracy: 0.0326\n",
      "Epoch 4/10\n",
      "21/21 [==============================] - 0s 20ms/step - loss: nan - accuracy: 0.0311\n",
      "Epoch 5/10\n",
      "21/21 [==============================] - 0s 8ms/step - loss: nan - accuracy: 0.0318\n",
      "Epoch 6/10\n",
      "21/21 [==============================] - 0s 10ms/step - loss: nan - accuracy: 0.0323\n",
      "Epoch 7/10\n",
      "21/21 [==============================] - 0s 12ms/step - loss: nan - accuracy: 0.0329\n",
      "Epoch 8/10\n",
      "21/21 [==============================] - 0s 14ms/step - loss: nan - accuracy: 0.0320\n",
      "Epoch 9/10\n",
      "21/21 [==============================] - 0s 9ms/step - loss: nan - accuracy: 0.0312\n",
      "Epoch 10/10\n",
      "21/21 [==============================] - 0s 17ms/step - loss: nan - accuracy: 0.0338\n"
     ]
    },
    {
     "output_type": "execute_result",
     "data": {
      "text/plain": [
       "<tensorflow.python.keras.callbacks.History at 0x7fbb543a58e0>"
      ]
     },
     "metadata": {},
     "execution_count": 65
    }
   ],
   "source": [
    "model.fit([meta_df_e.localization,\n",
    "            meta_df_e.sex,\n",
    "            meta_df_e.dx_type,\n",
    "            meta_df_e.age,\n",
    "            ], #image_df\n",
    "            \n",
    "            meta_df_e.dx,\n",
    "            \n",
    "            batch_size=500,\n",
    "            epochs=10)"
   ]
  },
  {
   "cell_type": "code",
   "execution_count": null,
   "metadata": {},
   "outputs": [],
   "source": []
  }
 ],
 "metadata": {
  "kernelspec": {
   "display_name": "Python 3.9.4 64-bit ('env')",
   "language": "python",
   "name": "python39464bitenv2ac02faadc1e4e39b69a483f61d7b4f7"
  },
  "language_info": {
   "codemirror_mode": {
    "name": "ipython",
    "version": 3
   },
   "file_extension": ".py",
   "mimetype": "text/x-python",
   "name": "python",
   "nbconvert_exporter": "python",
   "pygments_lexer": "ipython3",
   "version": "3.9.4-final"
  }
 },
 "nbformat": 4,
 "nbformat_minor": 5
}